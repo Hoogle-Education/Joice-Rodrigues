{
 "cells": [
  {
   "cell_type": "markdown",
   "metadata": {},
   "source": [
    "# Bibliotecas do projeto"
   ]
  },
  {
   "cell_type": "code",
   "execution_count": 1,
   "metadata": {},
   "outputs": [],
   "source": [
    "from random import randint"
   ]
  },
  {
   "cell_type": "markdown",
   "metadata": {},
   "source": [
    "# Inicializando Variáveis do projeto\n",
    "\n",
    "1. declarar os valores iniciais\n",
    "2. inicializar as variáveis compostas"
   ]
  },
  {
   "cell_type": "code",
   "execution_count": 2,
   "metadata": {},
   "outputs": [],
   "source": [
    "# instancias['Configuração']\n",
    "configuracao = [[1, 0, 1], [0, 1, 1], [1, 1, 1]]\n",
    "\n",
    "# janela Disponibilidade = Disponibilidade total de tempo de uma equipe\n",
    "janela_disponibilidade = [40, 50, 45]\n",
    "\n",
    "# Janela Final = capacidade de processamento de cada maquina\n",
    "janela_final = [20, 10, 21, 15]\n",
    "\n",
    "# Janela Inicial = tempo em que cada maquina deveria começar\n",
    "janela_inicial = [3, 3, 4, 7]\n",
    "\n",
    "# instancias['Processamento']\n",
    "# processamento = atividade x maquina\n",
    "processamentos = [ [4, 5, 4, 1],\n",
    "                  [4, 5, 6, 1],\n",
    "                  [4, 7, 3, 1] ]\n",
    "\n",
    "# ----------------------------------------------------\n",
    "# criacao das equipes (indexadas em 1)\n",
    "\n",
    "numero_equipes = len(configuracao[0])\n",
    "equipes = dict()\n",
    "\n",
    "for numero in range(numero_equipes):\n",
    "  nome_equipe = 'eq' + str(numero+1)\n",
    "  equipes[nome_equipe] = dict()\n",
    "  equipes[nome_equipe]['janela final local'] = [ ]\n",
    "  equipes[nome_equipe]['janela total'] = [ ]\n",
    "  equipes[nome_equipe]['janela inicial'] = [ ]\n",
    "  equipes[nome_equipe]['disponibilidade'] = janela_disponibilidade[numero]\n",
    "  equipes[nome_equipe]['disponibilidade total'] = janela_disponibilidade[numero]\n",
    "  \n",
    "  for i in range(len(janela_final)):\n",
    "    valor = janela_final[i]\n",
    "    valor_inicial = janela_inicial[i]\n",
    "    equipes[nome_equipe]['janela final local'].append(valor)\n",
    "    equipes[nome_equipe]['janela total'].append(valor)\n",
    "    equipes[nome_equipe]['janela inicial'].append(valor_inicial)\n",
    "\n",
    "  equipes[nome_equipe]['maquinas'] = [ ]"
   ]
  },
  {
   "cell_type": "markdown",
   "metadata": {},
   "source": [
    "# Definindo os filtros\n",
    "\n",
    "Filtros serão funções para buscarmos equipes que podem receber alguma determina máquina baseado em alguns critétios"
   ]
  },
  {
   "cell_type": "code",
   "execution_count": 3,
   "metadata": {},
   "outputs": [],
   "source": [
    "def filtraAtivos(vetor_binario):\n",
    "  ativos = [ ]\n",
    "\n",
    "  for i in range( len(vetor_binario) ):\n",
    "    if vetor_binario[i] : ativos.append(i)\n",
    "  \n",
    "  return ativos"
   ]
  },
  {
   "cell_type": "code",
   "execution_count": 4,
   "metadata": {},
   "outputs": [],
   "source": [
    "def filtraAtivosPorJanelaFinal(maquina, ativos, equipes):\n",
    "\n",
    "  numero_da_maquina = maquina['maquina de origem']\n",
    "  janela = maquina['janela']\n",
    "  ativos_temporarios = [ ]\n",
    "\n",
    "  for i in range( len(ativos) ):\n",
    "    ativo = ativos[i]\n",
    "    nome_equipe = 'eq' + str(ativo + 1)\n",
    "\n",
    "    # DEBUG\n",
    "    # print(f'{nome_equipe}')\n",
    "    \n",
    "    equipe = equipes[nome_equipe]\n",
    "    janela_na_equipe_para_maquina = equipe['janela final local'][numero_da_maquina]\n",
    "\n",
    "    # DEBUG\n",
    "    # print(f'espaço: {janela_na_equipe_para_maquina} || custo {janela}')\n",
    "\n",
    "    if janela_na_equipe_para_maquina >= janela:\n",
    "      ativos_temporarios.append(ativo)\n",
    "\n",
    "  return ativos_temporarios"
   ]
  },
  {
   "cell_type": "code",
   "execution_count": 5,
   "metadata": {},
   "outputs": [],
   "source": [
    "def filtraAtivosPorJanelaInicial(maquina, ativos, equipes):\n",
    "\n",
    "  numero_da_maquina = maquina['maquina de origem']\n",
    "  janela = maquina['janela'] \n",
    "  ativos_temporarios = [ ]\n",
    "\n",
    "  for i in range( len(ativos) ):\n",
    "    ativo = ativos[i]\n",
    "    nome_equipe = 'eq' + str(ativo + 1)\n",
    "\n",
    "    equipe = equipes[nome_equipe]\n",
    "    \n",
    "    janela_inicial = equipe['janela inicial'][numero_da_maquina]\n",
    "    janela += janela_inicial\n",
    "    janela_na_equipe_para_maquina = equipe['janela final local'][numero_da_maquina]\n",
    "    \n",
    "    # DEBUG\n",
    "    # print(f'janela equipe {nome_equipe} para maquina {numero_da_maquina}: {janela_na_equipe_para_maquina}')\n",
    "    # print(f'tempo de janela: {janela}')\n",
    "\n",
    "    if janela_na_equipe_para_maquina >= janela:\n",
    "      ativos_temporarios.append(ativo)\n",
    "\n",
    "  return ativos_temporarios"
   ]
  },
  {
   "cell_type": "code",
   "execution_count": 6,
   "metadata": {},
   "outputs": [],
   "source": [
    "def filtraAtivosPorDisponibilidade(maquina, ativos, equipes):\n",
    "  \n",
    "  numero_da_maquina = maquina['maquina de origem']\n",
    "  janela = maquina['janela'] \n",
    "  ativos_temporarios = [ ]\n",
    "\n",
    "  for i in range( len(ativos) ):\n",
    "    ativo = ativos[i]\n",
    "    nome_equipe = 'eq' + str(ativo + 1)\n",
    "    equipe = equipes[nome_equipe]\n",
    "    disponibilidade = equipe['disponibilidade']\n",
    "    \n",
    "    # DEBUG\n",
    "    # print(f'janela equipe {nome_equipe} para maquina {numero_da_maquina}: {janela_na_equipe_para_maquina}')\n",
    "    # print(f'tempo de janela: {janela}')\n",
    "\n",
    "    if disponibilidade >= janela:\n",
    "      ativos_temporarios.append(ativo)\n",
    "\n",
    "  return ativos_temporarios"
   ]
  },
  {
   "cell_type": "markdown",
   "metadata": {},
   "source": [
    "# Funções de distribuição entre equipes e ativos"
   ]
  },
  {
   "cell_type": "code",
   "execution_count": 7,
   "metadata": {},
   "outputs": [],
   "source": [
    "def distribuiParaAtivos(origem, ativos, equipes, indice_atividade) :\n",
    "  \n",
    "  for maquina_index in range( len(origem) ):\n",
    "\n",
    "    maquina = {\n",
    "      'janela': origem[maquina_index],\n",
    "      'indice da atividade': indice_atividade,\n",
    "      'maquina de origem': maquina_index\n",
    "    }\n",
    "    \n",
    "    # ativos 1 = filtrados pela janela final\n",
    "    ativos1 = filtraAtivosPorJanelaFinal(maquina, ativos, equipes)\n",
    "\n",
    "    # ativos 2 = filtados pela janela inicial\n",
    "    ativos2 = filtraAtivosPorJanelaInicial(maquina, ativos1, equipes)\n",
    "\n",
    "    # ativos 3 = filtrados pela disponibilidade da equipe\n",
    "    ativos3 = filtraAtivosPorDisponibilidade(maquina, ativos2, equipes)\n",
    "\n",
    "    # DEBUG\n",
    "    # print(f'ATIVOS = {ativos1} ')\n",
    "    # print(f'POR FINAL = {ativos2} ')\n",
    "    # print(f'POR INICIAL = {ativos3} ')\n",
    "    # print(f'POR DISPONIBILIDADE = {ativos3} ')\n",
    "    \n",
    "    # resgato a posicao em cima do ultimo filtro\n",
    "    pos = randint(0, len(ativos3)-1 )\n",
    "\n",
    "    ## monto o nome da equipe em funcao dos filtrados\n",
    "    nome_equipe = 'eq' + str(ativos3[pos] + 1)\n",
    "\n",
    "    equipe = equipes[nome_equipe]\n",
    "\n",
    "    equipe['janela final local'][maquina_index] -= maquina['janela']\n",
    "    equipe['janela inicial'][maquina_index] = 0\n",
    "    equipe['disponibilidade'] -= maquina['janela']\n",
    "    \n",
    "    # DEBUG\n",
    "    # print(f'A equipe {nome_equipe} recebeu na maquina {maquina_index} menos {maquina[\"janela\"]}')\n",
    "\n",
    "    equipe['maquinas'].append(maquina)"
   ]
  },
  {
   "cell_type": "code",
   "execution_count": 8,
   "metadata": {},
   "outputs": [],
   "source": [
    "def divideMatriz(configuracao, processamento, equipes):\n",
    "\n",
    "  for linha in range( len(configuracao) ) :\n",
    "    ativos = filtraAtivos(configuracao[linha])\n",
    "    distribuiParaAtivos(processamento[linha], ativos, equipes, linha)   "
   ]
  },
  {
   "cell_type": "markdown",
   "metadata": {},
   "source": [
    "# Cálculos em cima da distribuição final"
   ]
  },
  {
   "cell_type": "code",
   "execution_count": 9,
   "metadata": {},
   "outputs": [],
   "source": [
    "def tempo_da_equipe_maior_tempo_gasto(equipes):\n",
    "\n",
    "  maior_tempo = -1\n",
    "\n",
    "  for i in range(len(equipes)) :\n",
    "    nome_equipe = 'eq' + str(i + 1)\n",
    "    equipe = equipes[nome_equipe]\n",
    "\n",
    "    tempo_gasto = equipe[\"disponibilidade total\"] - equipe[\"disponibilidade\"]\n",
    "\n",
    "    if tempo_gasto > maior_tempo:\n",
    "      maior_tempo = tempo_gasto\n",
    "\n",
    "  return maior_tempo"
   ]
  },
  {
   "cell_type": "markdown",
   "metadata": {},
   "source": [
    "# Funções de Impressão"
   ]
  },
  {
   "cell_type": "code",
   "execution_count": 10,
   "metadata": {},
   "outputs": [],
   "source": [
    "def printEquipes():\n",
    "  for key in equipes.keys():\n",
    "    print(f'# {key}')\n",
    "    print(f'janela final local final : {equipes[key][\"janela final local\"]} ')\n",
    "\n",
    "    for maquina in equipes[key]['maquinas']:\n",
    "      print(f'{maquina}')"
   ]
  },
  {
   "cell_type": "markdown",
   "metadata": {},
   "source": [
    "# Parte principal"
   ]
  },
  {
   "cell_type": "code",
   "execution_count": 11,
   "metadata": {},
   "outputs": [
    {
     "name": "stdout",
     "output_type": "stream",
     "text": [
      "# eq1\n",
      "disponibilidade total : 40 \n",
      "disponibilidade resultante : 28 \n",
      "tempo gasto da equipe total : 12 \n",
      "janela final local final : [16, 5, 18, 15] \n",
      "janela total : [20, 10, 21, 15] \n",
      "consumo da janela inicial : [0, 0, 0, 7] \n",
      "{'janela': 4, 'indice da atividade': 0, 'maquina de origem': 0}\n",
      "{'janela': 5, 'indice da atividade': 0, 'maquina de origem': 1}\n",
      "{'janela': 3, 'indice da atividade': 2, 'maquina de origem': 2}\n",
      "# eq2\n",
      "disponibilidade total : 50 \n",
      "disponibilidade resultante : 36 \n",
      "tempo gasto da equipe total : 14 \n",
      "janela final local final : [12, 5, 21, 14] \n",
      "janela total : [20, 10, 21, 15] \n",
      "consumo da janela inicial : [0, 0, 4, 0] \n",
      "{'janela': 4, 'indice da atividade': 1, 'maquina de origem': 0}\n",
      "{'janela': 5, 'indice da atividade': 1, 'maquina de origem': 1}\n",
      "{'janela': 4, 'indice da atividade': 2, 'maquina de origem': 0}\n",
      "{'janela': 1, 'indice da atividade': 2, 'maquina de origem': 3}\n",
      "# eq3\n",
      "disponibilidade total : 45 \n",
      "disponibilidade resultante : 26 \n",
      "tempo gasto da equipe total : 19 \n",
      "janela final local final : [20, 3, 11, 13] \n",
      "janela total : [20, 10, 21, 15] \n",
      "consumo da janela inicial : [3, 0, 0, 0] \n",
      "{'janela': 4, 'indice da atividade': 0, 'maquina de origem': 2}\n",
      "{'janela': 1, 'indice da atividade': 0, 'maquina de origem': 3}\n",
      "{'janela': 6, 'indice da atividade': 1, 'maquina de origem': 2}\n",
      "{'janela': 1, 'indice da atividade': 1, 'maquina de origem': 3}\n",
      "{'janela': 7, 'indice da atividade': 2, 'maquina de origem': 1}\n",
      "MAIOR TEMPO GASTO EM UMA EQUIPE: 19\n"
     ]
    }
   ],
   "source": [
    "divideMatriz(configuracao, processamentos, equipes)\n",
    "\n",
    "for key in equipes.keys():\n",
    "  print(f'# {key}')\n",
    "  print(f'disponibilidade total : {equipes[key][\"disponibilidade total\"]} ')\n",
    "  print(f'disponibilidade resultante : {equipes[key][\"disponibilidade\"]} ')\n",
    "  print(f'tempo gasto da equipe total : {equipes[key][\"disponibilidade total\"] - equipes[key][\"disponibilidade\"]} ')\n",
    "  print(f'janela final local final : {equipes[key][\"janela final local\"]} ')\n",
    "  print(f'janela total : {equipes[key][\"janela total\"]} ')\n",
    "  print(f'consumo da janela inicial : {equipes[key][\"janela inicial\"]} ')\n",
    "\n",
    "  for maquina in equipes[key]['maquinas']:\n",
    "    print(f'{maquina}')\n",
    "\n",
    "tempo_maior = tempo_da_equipe_maior_tempo_gasto(equipes)\n",
    "print(f'MAIOR TEMPO GASTO EM UMA EQUIPE: {tempo_maior}')"
   ]
  }
 ],
 "metadata": {
  "kernelspec": {
   "display_name": "Python 3.9.13 64-bit (microsoft store)",
   "language": "python",
   "name": "python3"
  },
  "language_info": {
   "codemirror_mode": {
    "name": "ipython",
    "version": 3
   },
   "file_extension": ".py",
   "mimetype": "text/x-python",
   "name": "python",
   "nbconvert_exporter": "python",
   "pygments_lexer": "ipython3",
   "version": "3.9.13"
  },
  "orig_nbformat": 4,
  "vscode": {
   "interpreter": {
    "hash": "2a078324f6f3815219f59bdf36e0aa6fb84af4ea4619664e0e96b6c9a15648e8"
   }
  }
 },
 "nbformat": 4,
 "nbformat_minor": 2
}
