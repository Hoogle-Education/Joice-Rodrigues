{
 "cells": [
  {
   "cell_type": "markdown",
   "metadata": {},
   "source": [
    "# Bibliotecas do projeto"
   ]
  },
  {
   "cell_type": "code",
   "execution_count": 587,
   "metadata": {},
   "outputs": [],
   "source": [
    "from random import randint"
   ]
  },
  {
   "cell_type": "markdown",
   "metadata": {},
   "source": [
    "### Inicializando Variáveis do projeto\n",
    "\n",
    "1. declarar os valores iniciais\n",
    "2. inicializar as variáveis compostas"
   ]
  },
  {
   "cell_type": "code",
   "execution_count": 588,
   "metadata": {},
   "outputs": [],
   "source": [
    "# instancias['ConfiguraÃƒÂ§ÃƒÂ£o']\n",
    "configuracao = [[1, 0], [1, 1], [0, 1]]\n",
    "\n",
    "# janela Disponibilidade = Disponibilidade total de tempo de uma equipe\n",
    "janela_disponibilidade = [30, 40]\n",
    "\n",
    "# Janela Final = capacidade de processamento de cada maquina\n",
    "janela_final = [27, 19, 25, 35]\n",
    "\n",
    "# Janela Inicial = tempo em que cada maquina deveria comeÃƒÂ§ar\n",
    "janela_inicial = [3, 3, 4, 7]\n",
    "\n",
    "# instancias['Processamento']\n",
    "# processamento = atividade x maquina\n",
    "processamentos = [ [3, 3, 4, 1],\n",
    "                   [2, 3, 1, 1],\n",
    "                   [1, 1, 1, 2] ]\n",
    "\n",
    "# ----------------------------------------------------\n",
    "# criacao das equipes (indexadas em 1)\n",
    "\n",
    "numero_equipes = len(configuracao[0])\n",
    "equipes = dict()\n",
    "\n",
    "for numero in range(numero_equipes):\n",
    "  nome_equipe = 'eq' + str(numero+1)\n",
    "  equipes[nome_equipe] = dict()\n",
    "  equipes[nome_equipe]['janela final local'] = [ ]\n",
    "  equipes[nome_equipe]['janela total'] = [ ]\n",
    "  equipes[nome_equipe]['janela inicial'] = [ ]\n",
    "  equipes[nome_equipe]['disponibilidade'] = janela_disponibilidade[numero]\n",
    "  equipes[nome_equipe]['disponibilidade total'] = janela_disponibilidade[numero]\n",
    "  equipes[nome_equipe]['tempo'] = 0\n",
    "  \n",
    "  for i in range(len(janela_final)):\n",
    "    valor = janela_final[i]\n",
    "    valor_inicial = janela_inicial[i]\n",
    "    equipes[nome_equipe]['janela final local'].append(valor)\n",
    "    equipes[nome_equipe]['janela total'].append(valor)\n",
    "    equipes[nome_equipe]['janela inicial'].append(valor_inicial)\n",
    "\n",
    "  equipes[nome_equipe]['maquinas'] = [ ]"
   ]
  },
  {
   "cell_type": "markdown",
   "metadata": {},
   "source": [
    "### Definindo os filtros\n",
    "\n",
    "Filtros serão funções para buscarmos equipes que podem receber alguma determina máquina baseado em alguns critétios"
   ]
  },
  {
   "cell_type": "code",
   "execution_count": 589,
   "metadata": {},
   "outputs": [],
   "source": [
    "def filtraAtivos(vetor_binario):\n",
    "  ativos = [ ]\n",
    "\n",
    "  for i in range( len(vetor_binario) ):\n",
    "    if vetor_binario[i] : ativos.append(i)\n",
    "  \n",
    "  return ativos"
   ]
  },
  {
   "cell_type": "code",
   "execution_count": 590,
   "metadata": {},
   "outputs": [],
   "source": [
    "assert filtraAtivos([0, 1, 1]) == [1, 2]"
   ]
  },
  {
   "cell_type": "code",
   "execution_count": 591,
   "metadata": {},
   "outputs": [],
   "source": [
    "def filtraAtivosPorJanelaFinal(maquina, ativos, equipes):\n",
    "\n",
    "  numero_da_maquina = maquina['maquina de origem']\n",
    "  janela = maquina['janela']\n",
    "  ativos_temporarios = [ ]\n",
    "\n",
    "  for i in range( len(ativos) ):\n",
    "    ativo = ativos[i]\n",
    "    nome_equipe = 'eq' + str(ativo + 1)\n",
    "\n",
    "    # DEBUG\n",
    "    # print(f'{nome_equipe}')\n",
    "    \n",
    "    equipe = equipes[nome_equipe]\n",
    "    janela_na_equipe_para_maquina = equipe['janela final local'][numero_da_maquina]\n",
    "\n",
    "    # DEBUG\n",
    "    # print(f'espaço: {janela_na_equipe_para_maquina} || custo {janela}')\n",
    "\n",
    "    if janela_na_equipe_para_maquina >= janela:\n",
    "      ativos_temporarios.append(ativo)\n",
    "\n",
    "  return ativos_temporarios"
   ]
  },
  {
   "cell_type": "code",
   "execution_count": 592,
   "metadata": {},
   "outputs": [],
   "source": [
    "def filtraAtivosPorDisponibilidade(maquina, ativos, equipes):\n",
    "  \n",
    "  numero_da_maquina = maquina['maquina de origem']\n",
    "  janela = maquina['janela'] \n",
    "  ativos_temporarios = [ ]\n",
    "\n",
    "  for i in range( len(ativos) ):\n",
    "    ativo = ativos[i]\n",
    "    nome_equipe = 'eq' + str(ativo + 1)\n",
    "    equipe = equipes[nome_equipe]\n",
    "    disponibilidade = equipe['disponibilidade']\n",
    "    \n",
    "    # DEBUG\n",
    "    # print(f'janela equipe {nome_equipe} para maquina {numero_da_maquina}: {janela_na_equipe_para_maquina}')\n",
    "    # print(f'tempo de janela: {janela}')\n",
    "\n",
    "    if disponibilidade >= janela:\n",
    "      ativos_temporarios.append(ativo)\n",
    "\n",
    "  return ativos_temporarios"
   ]
  },
  {
   "cell_type": "markdown",
   "metadata": {},
   "source": [
    "### Ordenando os ativos"
   ]
  },
  {
   "cell_type": "code",
   "execution_count": 593,
   "metadata": {},
   "outputs": [],
   "source": [
    "def ordenaPorJanelaFinal_desc(maquina, ativos, equipes) :\n",
    "\n",
    "  numero_da_maquina = maquina['maquina de origem']\n",
    "  ativos_com_janela_final = dict()\n",
    "\n",
    "  for i in range( len(ativos) ):\n",
    "    ativo = ativos[i]\n",
    "    nome_equipe = 'eq' + str(ativo + 1)\n",
    "    janela_final = equipes[nome_equipe]['janela final local']\n",
    "    ativos_com_janela_final[i] = janela_final[numero_da_maquina]\n",
    "\n",
    "  ordenados = sorted(ativos_com_janela_final.items(), key = lambda x:x[1], reverse = True)\n",
    "  ordenados = list(dict(ordenados).keys())\n",
    "\n",
    "  # DEBUG\n",
    "  # print(f'dicionario temporario = {ativos_com_janela_final}')\n",
    "  # print(f'ordenados = {ordenados}')\n",
    "\n",
    "  return ordenados"
   ]
  },
  {
   "cell_type": "code",
   "execution_count": 594,
   "metadata": {},
   "outputs": [],
   "source": [
    "def ordenaPorJanelaInicial_asc(maquina, ativos, equipes) : \n",
    "  \n",
    "  numero_da_maquina = maquina['maquina de origem']\n",
    "  ativos_com_janela_inicial = dict()\n",
    "\n",
    "  for i in range( len(ativos) ):\n",
    "    ativo = ativos[i]\n",
    "    nome_equipe = 'eq' + str(ativo + 1)\n",
    "    janela_inicial = equipes[nome_equipe]['janela inicial']\n",
    "    ativos_com_janela_inicial[i] = janela_inicial[numero_da_maquina]\n",
    "\n",
    "    ordenados = sorted(ativos_com_janela_inicial.items(), key = lambda x:x[1])\n",
    "    ordenados = list(dict(ordenados).keys())\n",
    "\n",
    "    # DEBUG\n",
    "    # print(f'dicionario temporario = {ativos_com_janela_inicial}')\n",
    "    # print(f'ordenados = {ordenados}')\n",
    "\n",
    "    return ordenados"
   ]
  },
  {
   "cell_type": "markdown",
   "metadata": {},
   "source": [
    "### Funções de distribuição entre equipes e ativos"
   ]
  },
  {
   "cell_type": "code",
   "execution_count": 595,
   "metadata": {},
   "outputs": [],
   "source": [
    "def processaJanelaInicial(maquina, equipe):\n",
    "\n",
    "  numero_da_maquina = maquina['maquina de origem']\n",
    "  janela = maquina['janela'] \n",
    "    \n",
    "  horario_autorizado = equipe['janela inicial'][numero_da_maquina]\n",
    "\n",
    "  # precisa esperar ?\n",
    "  tempo = max(equipe['tempo'], horario_autorizado) + janela\n",
    "  \n",
    "  equipe['tempo'] = tempo  "
   ]
  },
  {
   "cell_type": "code",
   "execution_count": 596,
   "metadata": {},
   "outputs": [],
   "source": [
    "def distribuiParaAtivos(processamento, ativos, equipes, indice_atividade) :\n",
    "\n",
    "  for maquina_index in range( len(processamento) ):\n",
    "\n",
    "    maquina = {\n",
    "      'janela': processamento[maquina_index],\n",
    "      'indice da atividade': indice_atividade,\n",
    "      'maquina de origem': maquina_index\n",
    "    }\n",
    "    \n",
    "    # ativos 1 = filtrados pela janela final\n",
    "    ativos1 = filtraAtivosPorJanelaFinal(maquina, ativos, equipes)\n",
    "\n",
    "    # ativos 2 = filtrados pela disponibilidade da equipe\n",
    "    ativos2 = filtraAtivosPorDisponibilidade(maquina, ativos1, equipes)\n",
    "\n",
    "    # ordenados 1 = filtrando por janela final de modo decrescente\n",
    "    ordenados1 = ordenaPorJanelaFinal_desc(maquina, ativos2, equipes)\n",
    "\n",
    "    # tenho certeza que o tamanho será necessariamente maior que zero\n",
    "    assert len(ordenados1) > 0, 'houve uma falha em ordernar pela janela final'\n",
    "\n",
    "    # ordenados 2 = filtrando por janela inicial de modo crescente\n",
    "    ordenados2 = ordenaPorJanelaInicial_asc(maquina, ordenados1, equipes)\n",
    "    \n",
    "    # tenho certeza que o tamanho será necessariamente maior que zero\n",
    "    assert len(ordenados2) > 0, 'houve uma falha em ordernar pela janela inicial'\n",
    "\n",
    "    # acesso a posição\n",
    "    ## monto o nome da equipe em funcao dos filtrados\n",
    "    numero_equipe_escolhida = ordenados2[0]\n",
    "    nome_equipe = 'eq' + str(numero_equipe_escolhida + 1)\n",
    "   \n",
    "    # acesso a equipe que receberá a maquina\n",
    "    equipe = equipes[nome_equipe]\n",
    "    \n",
    "    #processando janela inicial\n",
    "    # ainda não valida se o tempo total é menor que a janela final\n",
    "    ativos2 = processaJanelaInicial(maquina, equipe)\n",
    "\n",
    "    equipe['janela final local'][maquina_index] -= maquina['janela']\n",
    "    equipe['disponibilidade'] -= maquina['janela']\n",
    "    \n",
    "    # DEBUG\n",
    "    # print(f'A equipe {nome_equipe} recebeu na maquina {maquina_index} menos {maquina[\"janela\"]}')\n",
    "\n",
    "    equipe['maquinas'].append(maquina)"
   ]
  },
  {
   "cell_type": "code",
   "execution_count": 597,
   "metadata": {},
   "outputs": [],
   "source": [
    "def divideMatriz(configuracao, processamento, equipes):\n",
    "\n",
    "  for linha in range( len(configuracao) ) :\n",
    "    ativos = filtraAtivos(configuracao[linha])\n",
    "    distribuiParaAtivos(processamento[linha], ativos, equipes, linha)   "
   ]
  },
  {
   "cell_type": "markdown",
   "metadata": {},
   "source": [
    "# Cálculos em cima da distribuição final"
   ]
  },
  {
   "cell_type": "code",
   "execution_count": 598,
   "metadata": {},
   "outputs": [],
   "source": [
    "def tempo_da_equipe_maior_tempo_gasto(equipes):\n",
    "\n",
    "  maior_tempo = -1\n",
    "\n",
    "  for i in range(len(equipes)) :\n",
    "    nome_equipe = 'eq' + str(i + 1)\n",
    "    equipe = equipes[nome_equipe]\n",
    "\n",
    "    tempo_gasto = equipe['tempo']\n",
    "\n",
    "    if tempo_gasto > maior_tempo:\n",
    "      maior_tempo = tempo_gasto\n",
    "\n",
    "  return maior_tempo"
   ]
  },
  {
   "cell_type": "markdown",
   "metadata": {},
   "source": [
    "# Funções de Impressão"
   ]
  },
  {
   "cell_type": "code",
   "execution_count": 599,
   "metadata": {},
   "outputs": [],
   "source": [
    "def printEquipes():\n",
    "  for key in equipes.keys():\n",
    "    print(f'# {key}')\n",
    "    print(f'janela final local final : {equipes[key][\"janela final local\"]} ')\n",
    "\n",
    "    for maquina in equipes[key]['maquinas']:\n",
    "      print(f'{maquina}')"
   ]
  },
  {
   "cell_type": "markdown",
   "metadata": {},
   "source": [
    "# Parte principal"
   ]
  },
  {
   "cell_type": "code",
   "execution_count": 600,
   "metadata": {},
   "outputs": [
    {
     "name": "stdout",
     "output_type": "stream",
     "text": [
      "-------------------------------------------------\n",
      "# eq1\n",
      "disponibilidade total : 30 \n",
      "disponibilidade resultante : 7 \n",
      "tempo gasto da equipe total : 26\n",
      "janela final local : [21, 12, 19, 31] \n",
      "janela total : [27, 19, 25, 35] \n",
      "janela inicial : [3, 3, 4, 7] \n",
      "-------------------------------------------------\n",
      "{'janela': 3, 'indice da atividade': 0, 'maquina de origem': 0}\n",
      "{'janela': 3, 'indice da atividade': 0, 'maquina de origem': 1}\n",
      "{'janela': 4, 'indice da atividade': 0, 'maquina de origem': 2}\n",
      "{'janela': 1, 'indice da atividade': 0, 'maquina de origem': 3}\n",
      "{'janela': 2, 'indice da atividade': 1, 'maquina de origem': 0}\n",
      "{'janela': 3, 'indice da atividade': 1, 'maquina de origem': 1}\n",
      "{'janela': 1, 'indice da atividade': 1, 'maquina de origem': 2}\n",
      "{'janela': 1, 'indice da atividade': 1, 'maquina de origem': 3}\n",
      "{'janela': 1, 'indice da atividade': 2, 'maquina de origem': 0}\n",
      "{'janela': 1, 'indice da atividade': 2, 'maquina de origem': 1}\n",
      "{'janela': 1, 'indice da atividade': 2, 'maquina de origem': 2}\n",
      "{'janela': 2, 'indice da atividade': 2, 'maquina de origem': 3}\n",
      "# eq2\n",
      "disponibilidade total : 40 \n",
      "disponibilidade resultante : 40 \n",
      "tempo gasto da equipe total : 0\n",
      "janela final local : [27, 19, 25, 35] \n",
      "janela total : [27, 19, 25, 35] \n",
      "janela inicial : [3, 3, 4, 7] \n",
      "-------------------------------------------------\n",
      "MAIOR TEMPO GASTO EM UMA EQUIPE: 26\n"
     ]
    }
   ],
   "source": [
    "divideMatriz(configuracao, processamentos, equipes)\n",
    "\n",
    "print('-------------------------------------------------')\n",
    "\n",
    "for key in equipes.keys():\n",
    "  print(f'# {key}')\n",
    "  print(f'disponibilidade total : {equipes[key][\"disponibilidade total\"]} ')\n",
    "  print(f'disponibilidade resultante : {equipes[key][\"disponibilidade\"]} ')\n",
    "  print(f'tempo gasto da equipe total : {equipes[key][\"tempo\"]}')\n",
    "  print(f'janela final local : {equipes[key][\"janela final local\"]} ')\n",
    "  print(f'janela total : {equipes[key][\"janela total\"]} ')\n",
    "  print(f'janela inicial : {equipes[key][\"janela inicial\"]} ')\n",
    "  print('-------------------------------------------------')\n",
    "\n",
    "  for maquina in equipes[key]['maquinas']:\n",
    "    print(f'{maquina}')\n",
    "\n",
    "tempo_maior = tempo_da_equipe_maior_tempo_gasto(equipes)\n",
    "print(f'MAIOR TEMPO GASTO EM UMA EQUIPE: {tempo_maior}')"
   ]
  }
 ],
 "metadata": {
  "kernelspec": {
   "display_name": "Python 3.9.13 64-bit (microsoft store)",
   "language": "python",
   "name": "python3"
  },
  "language_info": {
   "codemirror_mode": {
    "name": "ipython",
    "version": 3
   },
   "file_extension": ".py",
   "mimetype": "text/x-python",
   "name": "python",
   "nbconvert_exporter": "python",
   "pygments_lexer": "ipython3",
   "version": "3.9.13"
  },
  "orig_nbformat": 4,
  "vscode": {
   "interpreter": {
    "hash": "2a078324f6f3815219f59bdf36e0aa6fb84af4ea4619664e0e96b6c9a15648e8"
   }
  }
 },
 "nbformat": 4,
 "nbformat_minor": 2
}
